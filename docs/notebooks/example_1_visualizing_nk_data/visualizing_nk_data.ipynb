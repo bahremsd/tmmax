{
 "cells": [
  {
   "cell_type": "code",
   "execution_count": null,
   "id": "08db69fe-d478-4695-9018-4520a79872d6",
   "metadata": {},
   "outputs": [],
   "source": []
  }
 ],
 "metadata": {
  "kernelspec": {
   "display_name": "",
   "name": ""
  },
  "language_info": {
   "name": ""
  }
 },
 "nbformat": 4,
 "nbformat_minor": 5
}
