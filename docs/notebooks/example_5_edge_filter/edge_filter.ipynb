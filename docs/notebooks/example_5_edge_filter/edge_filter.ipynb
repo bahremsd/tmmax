{
 "cells": [
  {
   "cell_type": "code",
   "execution_count": null,
   "id": "3ff6ab01-d66b-49b9-ae69-181e820227e4",
   "metadata": {},
   "outputs": [],
   "source": []
  }
 ],
 "metadata": {
  "kernelspec": {
   "display_name": "Python 3 (ipykernel)",
   "language": "python",
   "name": "python3"
  },
  "language_info": {
   "codemirror_mode": {
    "name": "ipython",
    "version": 3
   },
   "file_extension": ".py",
   "mimetype": "text/x-python",
   "name": "python",
   "nbconvert_exporter": "python",
   "pygments_lexer": "ipython3",
   "version": "3.10.13"
  }
 },
 "nbformat": 4,
 "nbformat_minor": 5
}
